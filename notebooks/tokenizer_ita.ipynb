{
 "cells": [
  {
   "cell_type": "code",
   "execution_count": null,
   "metadata": {},
   "outputs": [],
   "source": [
    "import re\n",
    "\n",
    "import nltk\n",
    "nltk.download('punkt')\n",
    "from sumy.parsers.plaintext import PlaintextParser\n",
    "from sumy.nlp.tokenizers import Tokenizer\n",
    "from sumy.summarizers.lsa import LsaSummarizer\n",
    "from sumy.summarizers.edmundson import EdmundsonSummarizer\n",
    "from sumy.nlp.stemmers import Stemmer\n",
    "from sumy.utils import get_stop_words\n",
    "\n",
    "import spacy\n",
    "\n",
    "\n",
    "from PyPDF2 import PdfReader\n",
    "\n",
    "from IPython.core.interactiveshell import InteractiveShell\n",
    "InteractiveShell.ast_node_interactivity = \"all\""
   ]
  },
  {
   "cell_type": "markdown",
   "metadata": {},
   "source": [
    "### Read and Parse PDF"
   ]
  },
  {
   "cell_type": "code",
   "execution_count": null,
   "metadata": {},
   "outputs": [],
   "source": [
    "pdf_parser = PdfReader('prova.pdf')\n",
    "len(pdf_parser.pages)\n",
    "\n",
    "long_pdf_text = ''.join([p.extract_text() for p in pdf_parser.pages[5:18]])\n",
    "len(long_pdf_text)\n",
    "# print(long_pdf_text)"
   ]
  },
  {
   "cell_type": "code",
   "execution_count": null,
   "metadata": {},
   "outputs": [],
   "source": [
    "# lines = []\n",
    "# for i, line in enumerate(long_pdf_text.splitlines()):\n",
    "#     line = line.strip()\n",
    "#     # if the line is not empty\n",
    "#     if line:\n",
    "#         lines.append(line)\n",
    "\n",
    "# long_pdf_text = ' '.join(lines)"
   ]
  },
  {
   "cell_type": "markdown",
   "metadata": {},
   "source": [
    "### Instance summarizer"
   ]
  },
  {
   "cell_type": "code",
   "execution_count": null,
   "metadata": {},
   "outputs": [],
   "source": [
    "LANG = 'ita'\n",
    "tokenizer = Tokenizer(LANG)\n",
    "parser = PlaintextParser.from_string(long_pdf_text, tokenizer)\n",
    "stemmer = Stemmer(LANG)\n",
    "summarizer = LsaSummarizer(stemmer)\n",
    "summarizer.stop_words = get_stop_words(LANG)"
   ]
  },
  {
   "cell_type": "code",
   "execution_count": null,
   "metadata": {},
   "outputs": [],
   "source": [
    "# current_paragraph = []\n",
    "# paragraphs = []\n",
    "# for line in parser._text.splitlines():\n",
    "#     line = line.strip()\n",
    "#     if line.isupper():\n",
    "#         current_paragraph.append(line)\n",
    "#     elif not line and current_paragraph:\n",
    "#         sentences = self._to_sentences(current_paragraph)\n",
    "#         paragraphs.append(Paragraph(sentences))\n",
    "#         current_paragraph = []\n",
    "#     elif line:\n",
    "#         current_paragraph.append(line)\n",
    "# sentences = self._to_sentences(current_paragraph)\n",
    "# paragraphs.append(Paragraph(sentences))\n",
    "# return ObjectDocumentModel(paragraphs)\n",
    "\n",
    "\n"
   ]
  },
  {
   "cell_type": "code",
   "execution_count": null,
   "metadata": {},
   "outputs": [],
   "source": [
    "for i, p in enumerate(parser.document.paragraphs):\n",
    "    print(p)\n",
    "    print(p.headings)\n",
    "    print(p.sentences)\n",
    "    print(p.words)"
   ]
  },
  {
   "cell_type": "code",
   "execution_count": null,
   "metadata": {},
   "outputs": [],
   "source": []
  }
 ],
 "metadata": {
  "kernelspec": {
   "display_name": "Python 3.9.13 ('.venv3.9')",
   "language": "python",
   "name": "python3"
  },
  "language_info": {
   "codemirror_mode": {
    "name": "ipython",
    "version": 3
   },
   "file_extension": ".py",
   "mimetype": "text/x-python",
   "name": "python",
   "nbconvert_exporter": "python",
   "pygments_lexer": "ipython3",
   "version": "3.9.13"
  },
  "orig_nbformat": 4,
  "vscode": {
   "interpreter": {
    "hash": "b93850bb842f8947f316d4abbea9a1494c38451463ad7eee7d18c008579f1a94"
   }
  }
 },
 "nbformat": 4,
 "nbformat_minor": 2
}
